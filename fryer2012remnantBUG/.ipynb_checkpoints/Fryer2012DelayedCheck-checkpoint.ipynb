{
 "cells": [
  {
   "cell_type": "code",
   "execution_count": 1,
   "metadata": {},
   "outputs": [],
   "source": [
    "# from __future__ import division\n",
    "import numpy as np\n",
    "import matplotlib.pyplot as plt\n",
    "import h5py as h5\n",
    "\n",
    "\n",
    "import matplotlib.gridspec as gridspec\n",
    "import matplotlib\n",
    "\n",
    "from matplotlib.offsetbox import AnchoredText\n",
    "from matplotlib import rc                                                                                                                                                                                                                    \n",
    "from matplotlib import rcParams\n",
    "\n",
    "rc('font', family='serif', weight = 'bold')\n",
    "rc('text', usetex=True)\n",
    "matplotlib.rcParams['text.latex.preamble']=[r\"\\usepackage{amsmath}\"]\n",
    "matplotlib.rcParams['text.latex.preamble'] = [r'\\boldmath']\n",
    "rc('axes', linewidth=2)\n",
    "\n",
    "matplotlib.rcParams['xtick.major.size'] = 12\n",
    "matplotlib.rcParams['ytick.major.size'] = 12\n",
    "matplotlib.rcParams['xtick.minor.size'] = 8\n",
    "matplotlib.rcParams['ytick.minor.size'] = 8\n",
    "matplotlib.rcParams['font.weight']= 'bold'\n",
    "matplotlib.rcParams.update({'font.weight': 'bold'})\n",
    "fs = 30 # fontsize for plots\n",
    "rc('axes', linewidth=2)\n",
    "\n",
    "\n",
    "# own definitions\n",
    "colorlist = ['#1f77b4', '#ff7f0e', '#2ca02c', '#d62728', '#9467bd', '#8c564b', 'gold'] # colours of channels \n",
    "ChannelLabelList = ['channel 1','channel 2','channel 3','channel 4','channel 5','channel 6', 'channel 7' ]  # labels of channels  \n",
    "ChannelLabelListShort = ['1','2','3','4','5','6', '7' ] # shorter notation of ChannelLabelList\n",
    "bbox_props = dict(boxstyle=\"round\", fc=\"w\", ec=\"0.5\", alpha=0.75) # for box around text in plot\n",
    "\n",
    "\n",
    "\n",
    "\n",
    "\n"
   ]
  },
  {
   "cell_type": "code",
   "execution_count": 2,
   "metadata": {},
   "outputs": [],
   "source": [
    "def FryerCOCoreToProtoMassDelayed(COCoreMass):\n",
    "    \"\"\"\n",
    "     Equation 18 in Fryer et al 2012\n",
    "     \n",
    "     Parameters\n",
    "     -----------\n",
    "     COCoreMass : double\n",
    "     Mass of the CO core in Msol\n",
    "     \n",
    "     Returns\n",
    "     --------\n",
    "     Mproto : double\n",
    "     Mass of the Fe/Ni proto core in Msol\n",
    "\n",
    "     */\n",
    "    \"\"\"\n",
    "    if(COCoreMass < 3.5):\n",
    "        return 1.2;\n",
    "    \n",
    "    elif(COCoreMass >= 3.5 and COCoreMass < 6.0):\n",
    "        return 1.3;\n",
    "    \n",
    "    elif(COCoreMass >= 6.0 and COCoreMass < 11.0):\n",
    "        return 1.4;\n",
    "    \n",
    "    elif(COCoreMass >= 11.0):\n",
    "        return 1.6;\n",
    "    \n",
    "    else:\n",
    "        print(\"Error in COCoreToProtoMassDelayed\")\n",
    "        return 0\n"
   ]
  },
  {
   "cell_type": "code",
   "execution_count": 3,
   "metadata": {},
   "outputs": [],
   "source": [
    "def FryerFallbackDelayed( MpreSN,  Mproto,  COCoreMass):\n",
    "    \"\"\"\n",
    "    /*\n",
    "     Calculate fallback using the delayed prescription\n",
    "     \n",
    "     Equation 19 of Fryer et al 2012\n",
    "     \n",
    "     Parameters\n",
    "     -----------\n",
    "     MpreSN : \n",
    "     Pre supernova stellar mass in Msol\n",
    "     Mproto : \n",
    "     Fe/Ni proto compact object mass in Msol\n",
    "     COCoreMass : \n",
    "     Pre supernova CO core mass in Msol\n",
    "     \n",
    "     Returns\n",
    "     --------\n",
    "     fb : \n",
    "     Fallback\n",
    "\n",
    "     */\n",
    "     \"\"\"\n",
    "    fb = 0;\n",
    "\n",
    "    debugging = False;\n",
    "\n",
    "    if(COCoreMass < 2.5):\n",
    "        fb = 0.2/(MpreSN - Mproto);\n",
    "\n",
    "    elif(COCoreMass >= 2.5 and COCoreMass < 3.5):\n",
    "        fb = (0.5 * COCoreMass - 1.05)/(MpreSN - Mproto);\n",
    "\n",
    "    elif(COCoreMass >= 3.5 and COCoreMass < 11.0):\n",
    "        a2 = 0.133 - (0.093)/(MpreSN - Mproto);\n",
    "        b2 = -11.0 * a2 + 1.0;\n",
    "        fb = a2 * COCoreMass + b2;\n",
    "\n",
    "    elif(COCoreMass >= 11.0):\n",
    "        fb = 1.0;\n",
    "\n",
    "    else:\n",
    "        print(\"Error in fallbackDelayed\")\n",
    "        fb = 0.0;\n",
    "\n",
    "\n",
    "    if(fb > 1):\n",
    "        if(debugging):\n",
    "            print(\"Fallback delayed gives fb > 1.0 so setting fb = 1\" )\n",
    "\n",
    "        fb = 1.0;\n",
    "\n",
    "    elif (fb < 0):\n",
    "        if(debugging):\n",
    "            print(\"Fallback delayed gives fb < 0 so setting fb = 0\")\n",
    "            \n",
    "        \n",
    "        fb = 0;\n",
    "\n",
    "    return fb;\n",
    "\n"
   ]
  },
  {
   "cell_type": "code",
   "execution_count": 4,
   "metadata": {},
   "outputs": [],
   "source": [
    "def FryerMassFallbackGeneral( MpreSN,  Mproto,  fb):\n",
    "    \"\"\"\n",
    "     Equation 11 in Fryer et al 2012\n",
    "     \n",
    "     Parameters\n",
    "     -----------\n",
    "     MpreSN : \n",
    "     Pre supernova stellar mass in Msol\n",
    "     COCoreMass : \n",
    "     Pre supernova Carbon Oxygen (CO) core mass in Msol\n",
    "     fb : \n",
    "     Fallback [0,1]\n",
    "     \n",
    "     Returns\n",
    "     --------\n",
    "     Mfb : \n",
    "     Mass falling back onto proto object\n",
    "\n",
    "     */\n",
    "     \"\"\"\n",
    "    return fb * (MpreSN - Mproto);\n",
    "\n",
    "\n",
    "def FryerBaryonicRemnantMassGeneral( Mproto,  Mfb):\n",
    "    \"\"\"\n",
    "     Equation 12 in Fryer et al 2012\n",
    "     \n",
    "     Parameters\n",
    "     -----------\n",
    "     Mproto : \n",
    "        Mass of proto compact object in Msol\n",
    "     Mfb : \n",
    "        Mass falling back onto proto compact object Mfb = fb*(MpreSN - Mproto)\n",
    "     \n",
    "     Returns\n",
    "     --------\n",
    "     Mremnant, baryonic : \n",
    "        Baryonic mass of remnant\n",
    "\n",
    "     \"\"\"\n",
    "    return Mproto + Mfb; #Mfb = fb*(MpreSN - Mproto);\n",
    "\n",
    "\n",
    "def FryerGravitationalRemnantMassGeneral( Mbary, neutrino_mass_loss_bh_formation_value, maxNSmass):\n",
    "    \"\"\"\n",
    "     Equations 13 & 14 in Fryer et al 2012\n",
    "     \n",
    "     Parameters\n",
    "     -----------\n",
    "     Mbary : \n",
    "     Baryonic remnant mass in Msol\n",
    "     \n",
    "     Returns\n",
    "     --------\n",
    "     Mremnant, gravitational : \n",
    "     Gravitational mass of remnant in Msol\n",
    "\n",
    "    \"\"\"\n",
    "    if(Mbary < maxNSmass):\n",
    "        # NS\n",
    "        # Solve quadratic equation\n",
    "        tmp = FryerSolveQuadratic(0.075, 1.0, -Mbary);\n",
    "        return tmp;\n",
    "    \n",
    "    elif(Mbary >= maxNSmass): #options.maximumNeutronStarMass\n",
    "        # BH\n",
    "        return blackHoleFormationNeutrinoMassLoss(Mbary, neutrino_mass_loss_bh_formation_value);\n",
    "    \n",
    "    else:\n",
    "        print(\"Error in FryerGravitationalRemnantMassGeneral\")\n",
    "        return 0.0;\n",
    "    \n",
    "\n",
    "def FryerSolveQuadratic( a,  b,  c):\n",
    "    \"\"\"\n",
    "     Solve quadratic ax^2 + bx + c\n",
    "     return either 0, 1, or 2 roots depending on discriminant\n",
    "\n",
    "     \"\"\"\n",
    "    discriminant = b*b - 4.0*a*c;\n",
    "    x = 0.0;\n",
    "    \n",
    "    if(discriminant > 0.0):\n",
    "       # //std::cout << \"There are 2 real roots\" << std::endl;\n",
    "        xplus  = (-b + np.sqrt(discriminant))/(2.0*a);\n",
    "        xminus = (-b - np.sqrt(discriminant))/(2.0*a);\n",
    "        x = max(xplus, xminus);\n",
    "    \n",
    "    elif(discriminant == 0):\n",
    "        #//std::cout << \"There is 1 repeated root\" << std::endl;\n",
    "        x = -b/(2.0*a);\n",
    "    \n",
    "    else:\n",
    "        print()\n",
    "        #std::cerr << \"Error. No real roots\" << std::endl;\n",
    "    \n",
    "    \n",
    "    return x;\n",
    " \n",
    "def blackHoleFormationNeutrinoMassLoss( Mbary, neutrino_mass_loss_bh_formation_value):\n",
    "    \"\"\" \n",
    "     Parameters\n",
    "     -----------\n",
    "     Mbary : \n",
    "     Baryonic remnant mass in Msol\n",
    "     \n",
    "     Returns\n",
    "     --------\n",
    "     Mremnant, gravitational : \n",
    "     Gravitational mass of remnant in Msol\n",
    "    \"\"\"\n",
    "    Mgrav = 0.0;\n",
    "    neutrinoMassLossAssumptionBH = 'FIXED_FRACTION'\n",
    "    if(neutrinoMassLossAssumptionBH == 'FIXED_FRACTION'):\n",
    "        Mgrav = Mbary * (1.0 - neutrino_mass_loss_bh_formation_value); #neutrino_mass_loss_bh_formation_value = 0.1\n",
    "    \n",
    "    elif(neutrinoMassLossAssumptionBH == NEUTRINO_MASS_LOSS_BH_FIXED_MASS):\n",
    "        Mgrav = Mbary - neutrino_mass_loss_bh_formation_value\n",
    "    \n",
    "    else:\n",
    "        print()\n",
    "        #std::cerr << \"Error in blackHoleFormationNeutrinoMassLoss setting BH mass\" << std::endl;\n",
    "    \n",
    "    return Mgrav;\n"
   ]
  },
  {
   "cell_type": "code",
   "execution_count": 5,
   "metadata": {},
   "outputs": [],
   "source": [
    "def FryerCOCoreToProtoMassRapid(COCoreMass):\n",
    "    \"\"\" \n",
    "     Equation 15 in Fryer et al 2012, based on Woosley et al 2002\n",
    "     \n",
    "     Sets Mproto = 1.0 Msol regardless of progenitor\n",
    "\n",
    "     Parameters\n",
    "     ------------\n",
    "     COCoreMass : double\n",
    "     Carbon Oxygen (CO) core mass in Msol\n",
    "     \n",
    "     Returns\n",
    "     --------\n",
    "     Mproto : double\n",
    "     Mass of Fe/Ni proto core in Msol\n",
    "\n",
    "     */\n",
    "     \"\"\"\n",
    "    return 1.0;\n",
    "\n",
    "\n",
    "def FryerFallbackRapid(MpreSN, Mproto, COCoreMass):\n",
    "    \"\"\"\n",
    "     Calculate fallback using the rapid prescription\n",
    "     \n",
    "     Equations 15 & 16 from Fryer et al 2012\n",
    "     \n",
    "     Parameters\n",
    "     -----------\n",
    "     MpreSN : double\n",
    "     Pre supernova stellar mass in Msol\n",
    "     Mproto : double\n",
    "     Fe/Ni proto compact object mass in Msol\n",
    "     COCoreMass : double\n",
    "     Pre supernova CO core mass in Msol\n",
    "     \n",
    "     Returns\n",
    "     ---------\n",
    "     fb : double\n",
    "     Fraction of mass falling back onto proto object\n",
    "\n",
    "     */\n",
    "     \"\"\"\n",
    "    fb = 0.0;\n",
    "\n",
    "    debugging = False;\n",
    "\n",
    "    if(COCoreMass < 2.5):\n",
    "        fb = 0.2/(MpreSN - Mproto);\n",
    "    \n",
    "    elif(COCoreMass >=2.25 and COCoreMass < 6.0):\n",
    "        fb = (0.286 * COCoreMass - 0.514)/(MpreSN - Mproto);\n",
    "    \n",
    "    elif(COCoreMass >= 6.0 and COCoreMass < 7.0):\n",
    "        fb = 1.0;\n",
    "    \n",
    "    elif(COCoreMass >= 7.0 and COCoreMass < 11.0):\n",
    "        a1 = 0.25 - (1.275/(MpreSN - Mproto));\n",
    "        b1 = -11.0 * a1 + 1.0;\n",
    "        fb = a1 * COCoreMass + b1;\n",
    "    \n",
    "    elif(COCoreMass >= 11.0):\n",
    "        fb = 1.0;\n",
    "    \n",
    "    else:\n",
    "#         std::cerr << \"Error in fallbackRapid\" << std::endl;\n",
    "        fb = 0.0;\n",
    "    \n",
    "\n",
    "    if(fb > 1):\n",
    "        if(debugging):\n",
    "            print()\n",
    "#             continue\n",
    "#             std::cout << \"Fallback delayed gives fb > 1.0 so setting fb = 1\" << std::endl;\n",
    "        \n",
    "        fb = 1.0;\n",
    "    \n",
    "    elif (fb < 0):\n",
    "        if(debugging):\n",
    "            print()\n",
    "#             continue \n",
    "#             std::cout << \"Fallback delayed gives fb < 0 so setting fb = 0\" << std::endl;\n",
    "        \n",
    "        fb = 0;\n",
    "    return fb;\n",
    "\n"
   ]
  },
  {
   "cell_type": "code",
   "execution_count": null,
   "metadata": {},
   "outputs": [],
   "source": []
  },
  {
   "cell_type": "code",
   "execution_count": 11,
   "metadata": {},
   "outputs": [
    {
     "name": "stdout",
     "output_type": "stream",
     "text": [
      "2.5\n"
     ]
    }
   ],
   "source": [
    "print(FryerSolveQuadratic(0.075, 1.0, -2.96875))"
   ]
  },
  {
   "cell_type": "code",
   "execution_count": 12,
   "metadata": {},
   "outputs": [
    {
     "name": "stdout",
     "output_type": "stream",
     "text": [
      "2.966966966966967\n",
      "2.4987031569686025\n"
     ]
    }
   ],
   "source": [
    "Mbary = np.linspace(2,5,1000)\n",
    "sol =[]\n",
    "for mbary in Mbary:\n",
    "    sol.append(FryerSolveQuadratic(0.075, 1.0, -mbary))\n",
    "\n",
    "    \n",
    "maskMaxNS = (np.asarray(sol)<=2.5)\n",
    "print( Mbary[maskMaxNS][-1])\n",
    "\n",
    "print(FryerSolveQuadratic(0.075, 1.0, -Mbary[maskMaxNS][-1]))"
   ]
  },
  {
   "cell_type": "code",
   "execution_count": 13,
   "metadata": {},
   "outputs": [],
   "source": [
    "# Continuos Mock population:\n",
    "\n",
    "COCoreMass = np.linspace(1, 6, 1000)\n",
    "StarMass = COCoreMass*.5"
   ]
  },
  {
   "cell_type": "code",
   "execution_count": 14,
   "metadata": {},
   "outputs": [
    {
     "name": "stdout",
     "output_type": "stream",
     "text": [
      "2.4987031569686025\n"
     ]
    }
   ],
   "source": [
    "print(FryerSolveQuadratic(0.075, 1.0, -Mbary[maskMaxNS][-1]))"
   ]
  },
  {
   "cell_type": "code",
   "execution_count": 15,
   "metadata": {},
   "outputs": [],
   "source": [
    "\n",
    "\n",
    "COCoreMassList = np.linspace(3, 8, 100000)\n",
    "# StarMass = COCoreMass*4\n",
    "mrem_baryList = []\n",
    "remnantslist0_1, remnantslist0_5, remnantslist1_0 = [], [], []\n",
    "for ind, COCoreMass in enumerate(COCoreMassList):\n",
    "    Mass = COCoreMass*4\n",
    "\n",
    "\n",
    "    Mproto = FryerCOCoreToProtoMassDelayed(COCoreMass)\n",
    "    fb = FryerFallbackDelayed(Mass, Mproto, COCoreMass)\n",
    "    Mfb = FryerMassFallbackGeneral(Mass, Mproto, fb);\n",
    "    Mrem_bary = FryerBaryonicRemnantMassGeneral(Mproto, Mfb);\n",
    "    mrem_baryList.append(Mrem_bary)\n",
    "    \n",
    "    Mrem_grav0_1 = FryerGravitationalRemnantMassGeneral(Mrem_bary, 0.1,2.5);\n",
    "    Mrem_grav0_5 = FryerGravitationalRemnantMassGeneral(Mrem_bary, 0.1,2.9669);\n",
    "    Mrem_grav1_0 = FryerGravitationalRemnantMassGeneral(Mrem_bary, 1,2.5);\n",
    "    remnantslist0_1.append(Mrem_grav0_1)\n",
    "    remnantslist0_5.append(Mrem_grav0_5)\n",
    "    remnantslist1_0.append(Mrem_grav1_0)"
   ]
  },
  {
   "cell_type": "markdown",
   "metadata": {},
   "source": [
    "# RAPID"
   ]
  },
  {
   "cell_type": "code",
   "execution_count": 16,
   "metadata": {},
   "outputs": [],
   "source": [
    "###### RAPID #######\n",
    "\n",
    "COCoreMassList = np.linspace(3, 40, 100000)\n",
    "# StarMass = COCoreMass*4\n",
    "mrem_baryList = []\n",
    "remnantslistRAPID0_1, remnantslistRAPID0_5, remnantslistRAPID1_0 = [], [], []\n",
    "for ind, COCoreMass in enumerate(COCoreMassList):\n",
    "    Mass = COCoreMass*4\n",
    "\n",
    "    Mproto = FryerCOCoreToProtoMassRapid(COCoreMass); #// Calculate fb, Mfb\n",
    "    fb = FryerFallbackRapid(Mass, Mproto, COCoreMass);\n",
    "    Mfb = FryerMassFallbackGeneral(Mass, Mproto, fb);#// Calculate Mremnant, baryonic\n",
    "    Mrem_bary = FryerBaryonicRemnantMassGeneral(Mproto, Mfb);\n",
    "    \n",
    "    \n",
    "    Mrem_gravRAPID0_1 = FryerGravitationalRemnantMassGeneral(Mrem_bary, 0.1,2.5);\n",
    "    Mrem_gravRAPID0_5 = FryerGravitationalRemnantMassGeneral(Mrem_bary, 0.1,2.9669);\n",
    "    Mrem_gravRAPID1_0 = FryerGravitationalRemnantMassGeneral(Mrem_bary, 1,2.5);\n",
    "    remnantslistRAPID0_1.append(Mrem_gravRAPID0_1)\n",
    "    remnantslistRAPID0_5.append(Mrem_gravRAPID0_5)\n",
    "    remnantslistRAPID1_0.append(Mrem_gravRAPID1_0)"
   ]
  },
  {
   "cell_type": "code",
   "execution_count": null,
   "metadata": {},
   "outputs": [],
   "source": []
  },
  {
   "cell_type": "code",
   "execution_count": null,
   "metadata": {},
   "outputs": [],
   "source": []
  },
  {
   "cell_type": "code",
   "execution_count": 17,
   "metadata": {},
   "outputs": [
    {
     "name": "stderr",
     "output_type": "stream",
     "text": [
      "posx and posy should be finite values\n",
      "posx and posy should be finite values\n"
     ]
    },
    {
     "data": {
      "image/png": "[encoded data removed]",
      "text/plain": [
       "<Figure size 720x432 with 1 Axes>"
      ]
     },
     "metadata": {
      "needs_background": "light"
     },
     "output_type": "display_data"
    }
   ],
   "source": [
    "f, axarr = plt.subplots(1, 1, figsize=(10, 6))\n",
    "# plot given parameters for star 1 and star 2\n",
    "axarr.scatter(COCoreMassList, remnantslist0_1, s = 5, c=colorlist[0], label = r' ')\n",
    "\n",
    "axarr.legend(markerscale=4, scatterpoints=1,fontsize = 24 , loc = 'upper left')\n",
    "\n",
    "axarr.grid(which='both')\n",
    "axarr.grid(which='minor', alpha=0.2)\n",
    "axarr.grid(which='major', alpha=0.5) \n",
    "\n",
    "axarr.grid(True)\n",
    "axarr.tick_params(labelsize=24,)\n",
    "axarr.set_xlabel(r'CO core mass  $[\\rm{M}_{\\odot}]$', fontsize=24)\n",
    "axarr.set_ylabel(r'remnant mass $[\\rm{M}_{\\odot}]$', fontsize=24)     \n",
    "\n",
    "plt.tight_layout()\n",
    "\n",
    "\n",
    "# plt.savefig('./MockPopulation.png', dpi = 300)\n",
    "\n",
    "plt.show()"
   ]
  },
  {
   "cell_type": "code",
   "execution_count": 21,
   "metadata": {
    "scrolled": false
   },
   "outputs": [
    {
     "ename": "ValueError",
     "evalue": "x and y must be the same size",
     "output_type": "error",
     "traceback": [
      "\u001b[0;31m---------------------------------------------------------------------------\u001b[0m",
      "\u001b[0;31mValueError\u001b[0m                                Traceback (most recent call last)",
      "\u001b[0;32m<ipython-input-21-87d18653183f>\u001b[0m in \u001b[0;36m<module>\u001b[0;34m\u001b[0m\n\u001b[1;32m      2\u001b[0m \u001b[0;31m# plot given parameters for star 1 and star 2\u001b[0m\u001b[0;34m\u001b[0m\u001b[0;34m\u001b[0m\u001b[0;34m\u001b[0m\u001b[0m\n\u001b[1;32m      3\u001b[0m \u001b[0maxarr\u001b[0m\u001b[0;34m.\u001b[0m\u001b[0mscatter\u001b[0m\u001b[0;34m(\u001b[0m\u001b[0mCOCoreMassList\u001b[0m\u001b[0;34m,\u001b[0m \u001b[0mremnantslist0_1\u001b[0m\u001b[0;34m,\u001b[0m \u001b[0ms\u001b[0m \u001b[0;34m=\u001b[0m \u001b[0;36m5\u001b[0m\u001b[0;34m,\u001b[0m \u001b[0mc\u001b[0m\u001b[0;34m=\u001b[0m\u001b[0mcolorlist\u001b[0m\u001b[0;34m[\u001b[0m\u001b[0;36m0\u001b[0m\u001b[0;34m]\u001b[0m\u001b[0;34m,\u001b[0m \u001b[0mlabel\u001b[0m \u001b[0;34m=\u001b[0m \u001b[0;34mr'$M_{\\rm{rem}}$ $M_{\\rm{NS,max}}=2.5 $'\u001b[0m\u001b[0;34m)\u001b[0m\u001b[0;34m\u001b[0m\u001b[0;34m\u001b[0m\u001b[0m\n\u001b[0;32m----> 4\u001b[0;31m \u001b[0maxarr\u001b[0m\u001b[0;34m.\u001b[0m\u001b[0mscatter\u001b[0m\u001b[0;34m(\u001b[0m\u001b[0mCOCoreMassList\u001b[0m\u001b[0;34m,\u001b[0m \u001b[0mmrem_baryList\u001b[0m\u001b[0;34m,\u001b[0m \u001b[0ms\u001b[0m \u001b[0;34m=\u001b[0m \u001b[0;36m5\u001b[0m\u001b[0;34m,\u001b[0m \u001b[0mc\u001b[0m\u001b[0;34m=\u001b[0m\u001b[0mcolorlist\u001b[0m\u001b[0;34m[\u001b[0m\u001b[0;36m1\u001b[0m\u001b[0;34m]\u001b[0m\u001b[0;34m,\u001b[0m \u001b[0mlabel\u001b[0m \u001b[0;34m=\u001b[0m \u001b[0;34mr'$M_{\\rm{rem,bary}}$  $M_{\\rm{NS,max}}=2.5$'\u001b[0m\u001b[0;34m)\u001b[0m\u001b[0;34m\u001b[0m\u001b[0;34m\u001b[0m\u001b[0m\n\u001b[0m\u001b[1;32m      5\u001b[0m \u001b[0;31m# axarr.scatter(COCoreMassList, remnantslist0_5, s = 5, c=colorlist[2], label = r'$M_{\\rm{rem}}$ $ M_{\\rm{NS,max}}=3.0$')\u001b[0m\u001b[0;34m\u001b[0m\u001b[0;34m\u001b[0m\u001b[0;34m\u001b[0m\u001b[0m\n\u001b[1;32m      6\u001b[0m \u001b[0;34m\u001b[0m\u001b[0m\n",
      "\u001b[0;32m/Library/Frameworks/Python.framework/Versions/3.7/lib/python3.7/site-packages/matplotlib/__init__.py\u001b[0m in \u001b[0;36minner\u001b[0;34m(ax, data, *args, **kwargs)\u001b[0m\n\u001b[1;32m   1599\u001b[0m     \u001b[0;32mdef\u001b[0m \u001b[0minner\u001b[0m\u001b[0;34m(\u001b[0m\u001b[0max\u001b[0m\u001b[0;34m,\u001b[0m \u001b[0;34m*\u001b[0m\u001b[0margs\u001b[0m\u001b[0;34m,\u001b[0m \u001b[0mdata\u001b[0m\u001b[0;34m=\u001b[0m\u001b[0;32mNone\u001b[0m\u001b[0;34m,\u001b[0m \u001b[0;34m**\u001b[0m\u001b[0mkwargs\u001b[0m\u001b[0;34m)\u001b[0m\u001b[0;34m:\u001b[0m\u001b[0;34m\u001b[0m\u001b[0;34m\u001b[0m\u001b[0m\n\u001b[1;32m   1600\u001b[0m         \u001b[0;32mif\u001b[0m \u001b[0mdata\u001b[0m \u001b[0;32mis\u001b[0m \u001b[0;32mNone\u001b[0m\u001b[0;34m:\u001b[0m\u001b[0;34m\u001b[0m\u001b[0;34m\u001b[0m\u001b[0m\n\u001b[0;32m-> 1601\u001b[0;31m             \u001b[0;32mreturn\u001b[0m \u001b[0mfunc\u001b[0m\u001b[0;34m(\u001b[0m\u001b[0max\u001b[0m\u001b[0;34m,\u001b[0m \u001b[0;34m*\u001b[0m\u001b[0mmap\u001b[0m\u001b[0;34m(\u001b[0m\u001b[0msanitize_sequence\u001b[0m\u001b[0;34m,\u001b[0m \u001b[0margs\u001b[0m\u001b[0;34m)\u001b[0m\u001b[0;34m,\u001b[0m \u001b[0;34m**\u001b[0m\u001b[0mkwargs\u001b[0m\u001b[0;34m)\u001b[0m\u001b[0;34m\u001b[0m\u001b[0;34m\u001b[0m\u001b[0m\n\u001b[0m\u001b[1;32m   1602\u001b[0m \u001b[0;34m\u001b[0m\u001b[0m\n\u001b[1;32m   1603\u001b[0m         \u001b[0mbound\u001b[0m \u001b[0;34m=\u001b[0m \u001b[0mnew_sig\u001b[0m\u001b[0;34m.\u001b[0m\u001b[0mbind\u001b[0m\u001b[0;34m(\u001b[0m\u001b[0max\u001b[0m\u001b[0;34m,\u001b[0m \u001b[0;34m*\u001b[0m\u001b[0margs\u001b[0m\u001b[0;34m,\u001b[0m \u001b[0;34m**\u001b[0m\u001b[0mkwargs\u001b[0m\u001b[0;34m)\u001b[0m\u001b[0;34m\u001b[0m\u001b[0;34m\u001b[0m\u001b[0m\n",
      "\u001b[0;32m/Library/Frameworks/Python.framework/Versions/3.7/lib/python3.7/site-packages/matplotlib/axes/_axes.py\u001b[0m in \u001b[0;36mscatter\u001b[0;34m(self, x, y, s, c, marker, cmap, norm, vmin, vmax, alpha, linewidths, verts, edgecolors, plotnonfinite, **kwargs)\u001b[0m\n\u001b[1;32m   4442\u001b[0m         \u001b[0my\u001b[0m \u001b[0;34m=\u001b[0m \u001b[0mnp\u001b[0m\u001b[0;34m.\u001b[0m\u001b[0mma\u001b[0m\u001b[0;34m.\u001b[0m\u001b[0mravel\u001b[0m\u001b[0;34m(\u001b[0m\u001b[0my\u001b[0m\u001b[0;34m)\u001b[0m\u001b[0;34m\u001b[0m\u001b[0;34m\u001b[0m\u001b[0m\n\u001b[1;32m   4443\u001b[0m         \u001b[0;32mif\u001b[0m \u001b[0mx\u001b[0m\u001b[0;34m.\u001b[0m\u001b[0msize\u001b[0m \u001b[0;34m!=\u001b[0m \u001b[0my\u001b[0m\u001b[0;34m.\u001b[0m\u001b[0msize\u001b[0m\u001b[0;34m:\u001b[0m\u001b[0;34m\u001b[0m\u001b[0;34m\u001b[0m\u001b[0m\n\u001b[0;32m-> 4444\u001b[0;31m             \u001b[0;32mraise\u001b[0m \u001b[0mValueError\u001b[0m\u001b[0;34m(\u001b[0m\u001b[0;34m\"x and y must be the same size\"\u001b[0m\u001b[0;34m)\u001b[0m\u001b[0;34m\u001b[0m\u001b[0;34m\u001b[0m\u001b[0m\n\u001b[0m\u001b[1;32m   4445\u001b[0m \u001b[0;34m\u001b[0m\u001b[0m\n\u001b[1;32m   4446\u001b[0m         \u001b[0;32mif\u001b[0m \u001b[0ms\u001b[0m \u001b[0;32mis\u001b[0m \u001b[0;32mNone\u001b[0m\u001b[0;34m:\u001b[0m\u001b[0;34m\u001b[0m\u001b[0;34m\u001b[0m\u001b[0m\n",
      "\u001b[0;31mValueError\u001b[0m: x and y must be the same size"
     ]
    },
    {
     "data": {
      "image/png": "[encoded data removed]",
      "text/plain": [
       "<Figure size 720x432 with 1 Axes>"
      ]
     },
     "metadata": {
      "needs_background": "light"
     },
     "output_type": "display_data"
    }
   ],
   "source": [
    "f, axarr = plt.subplots(1, 1, figsize=(10, 6))\n",
    "# plot given parameters for star 1 and star 2\n",
    "axarr.scatter(COCoreMassList, remnantslist0_1, s = 5, c=colorlist[0], label = r'$M_{\\rm{rem}}$ $M_{\\rm{NS,max}}=2.5 $')\n",
    "axarr.scatter(COCoreMassList, mrem_baryList, s = 5, c=colorlist[1], label = r'$M_{\\rm{rem,bary}}$  $M_{\\rm{NS,max}}=2.5$')\n",
    "# axarr.scatter(COCoreMassList, remnantslist0_5, s = 5, c=colorlist[2], label = r'$M_{\\rm{rem}}$ $ M_{\\rm{NS,max}}=3.0$')\n",
    "\n",
    "# axarr.scatter(COCoreMassList, remnantslist1_0, s = 5, c=colorlist[2], label = r'$\\nu_{\\rm{bh,loss}} = 1.0$ ')\n",
    "# plt.scatter(, s = 3)\n",
    "# plt.ylim(0,5)\n",
    "\n",
    "axarr.legend(markerscale=4, scatterpoints=1,fontsize = 24 , loc = 'upper left')\n",
    "\n",
    "axarr.grid(which='both')\n",
    "axarr.grid(which='minor', alpha=0.2)\n",
    "axarr.grid(which='major', alpha=0.5) \n",
    "\n",
    "axarr.grid(True)\n",
    "axarr.tick_params(labelsize=24,)\n",
    "axarr.set_xlabel(r'CO core mass  $[\\rm{M}_{\\odot}]$', fontsize=24)\n",
    "axarr.set_ylabel(r'remnant mass $[\\rm{M}_{\\odot}]$', fontsize=24)     \n",
    "\n",
    "axarr.set_xlim(3,4)\n",
    "axarr.set_ylim(1.5,3)\n",
    "plt.tight_layout()\n",
    "# plt.savefig('./remnantAndBaryonicRemnantMass.png', dpi = 300)\n",
    "\n",
    "plt.show()"
   ]
  },
  {
   "cell_type": "code",
   "execution_count": 19,
   "metadata": {},
   "outputs": [
    {
     "name": "stdout",
     "output_type": "stream",
     "text": [
      "2.498654446699254\n"
     ]
    }
   ],
   "source": [
    "print(FryerSolveQuadratic(0.075, 1.0, -2.9669))"
   ]
  },
  {
   "cell_type": "code",
   "execution_count": 20,
   "metadata": {},
   "outputs": [
    {
     "data": {
      "image/png": "[encoded data removed]",
      "text/plain": [
       "<Figure size 720x432 with 1 Axes>"
      ]
     },
     "metadata": {
      "needs_background": "light"
     },
     "output_type": "display_data"
    }
   ],
   "source": [
    "f, axarr = plt.subplots(1, 1, figsize=(10, 6))\n",
    "\n",
    "xx=np.linspace(3,5,1000)\n",
    "axarr.plot(xx, len(xx)*[2.5], c='orange', lw=2, linestyle =':')\n",
    "axarr.plot(xx, len(xx)*[FryerSolveQuadratic(0.075, 1.0, -2.5)], c='orange',lw=2, linestyle =':')\n",
    "axarr.fill_between(x=xx,y1=np.ones_like(xx)*FryerSolveQuadratic(0.075, 1.0, -2.5),y2=np.ones_like(xx)*2.5,\\\n",
    "                   color='orange', alpha = 0.3, hatch='/' , label = 'COMPAS bug: too high NS mass')\n",
    "axarr.fill_between(x=xx,y1=np.ones_like(xx)*2.5\\\n",
    "                   ,y2=np.ones_like(xx)*2.9669*0.9, color='green', alpha = 0.3, label = 'COMPAS bug: classified as NS should be BH')\n",
    "\n",
    "\n",
    "\n",
    "# plot given parameters for star 1 and star 2\n",
    "axarr.scatter(COCoreMassList, remnantslist0_1, s = 50, c=colorlist[0], label = r'$M_{\\rm{rem}}$ (currently:) $M_{\\rm{bar,break}}=2.5 $')\n",
    "# axarr.scatter(COCoreMassList, mrem_baryList, s = 5, c=colorlist[1], label = r'$M_{\\rm{rem,bary}}$  $M_{\\rm{NS,max}}=2.5$')\n",
    "axarr.scatter(COCoreMassList, remnantslist0_5, s = 5, c=colorlist[3], label = r'$M_{\\rm{rem}}$(correct:) $ M_{\\rm{bar,break}}=2.9669$')\n",
    "\n",
    "\n",
    "axarr.legend(markerscale=4, scatterpoints=1,fontsize = 18 , loc = 'lower right')\n",
    "\n",
    "axarr.grid(which='both')\n",
    "axarr.grid(which='minor', alpha=0.2)\n",
    "axarr.grid(which='major', alpha=0.5) \n",
    "\n",
    "axarr.grid(True)\n",
    "axarr.tick_params(labelsize=24,)\n",
    "axarr.set_xlabel(r'CO core mass  $[\\rm{M}_{\\odot}]$', fontsize=24)\n",
    "axarr.set_ylabel(r'remnant mass $[\\rm{M}_{\\odot}]$', fontsize=24)     \n",
    "\n",
    "axarr.set_xlim(3,5)\n",
    "axarr.set_ylim(1.3,3)\n",
    "plt.tight_layout()\n",
    "# plt.savefig('./remnantMassMnsmaxVariatios.png', dpi = 300)\n",
    "\n",
    "plt.show()"
   ]
  },
  {
   "cell_type": "code",
   "execution_count": 100,
   "metadata": {},
   "outputs": [
    {
     "data": {
      "image/png": "[encoded data removed]",
      "text/plain": [
       "<Figure size 720x432 with 1 Axes>"
      ]
     },
     "metadata": {
      "needs_background": "light"
     },
     "output_type": "display_data"
    }
   ],
   "source": [
    "f, axarr = plt.subplots(1, 1, figsize=(10, 6))\n",
    "\n",
    "xx=np.linspace(3,20,1000)\n",
    "axarr.plot(xx, len(xx)*[2.5], c='orange', lw=2, linestyle =':')\n",
    "axarr.plot(xx, len(xx)*[FryerSolveQuadratic(0.075, 1.0, -2.5)], c='orange',lw=2, linestyle =':')\n",
    "axarr.fill_between(x=xx,y1=np.ones_like(xx)*FryerSolveQuadratic(0.075, 1.0, -2.5),y2=np.ones_like(xx)*2.5,\\\n",
    "                   color='orange', alpha = 0.3, hatch='/' , label = 'COMPAS bug: too high NS mass')\n",
    "axarr.fill_between(x=xx,y1=np.ones_like(xx)*2.5\\\n",
    "                   ,y2=np.ones_like(xx)*2.9669*0.9, color='green', alpha = 0.3, label = 'COMPAS bug: classified as NS should be BH')\n",
    "\n",
    "\n",
    "\n",
    "# plot given parameters for star 1 and star 2\n",
    "axarr.scatter(COCoreMassList, remnantslistRAPID0_1, s = 50, c=colorlist[0], label = r'$M_{\\rm{rem}}$ (currently:) $M_{\\rm{bar,break}}=2.5 $')\n",
    "# axarr.scatter(COCoreMassList, mrem_baryList, s = 5, c=colorlist[1], label = r'$M_{\\rm{rem,bary}}$  $M_{\\rm{NS,max}}=2.5$')\n",
    "axarr.scatter(COCoreMassList, remnantslistRAPID0_5, s = 5, c=colorlist[3], label = r'$M_{\\rm{rem}}$(correct:) $ M_{\\rm{bar,break}}=2.9669$')\n",
    "\n",
    "\n",
    "axarr.legend(markerscale=4, scatterpoints=1,fontsize = 18 , loc = 'upper right')\n",
    "\n",
    "axarr.grid(which='both')\n",
    "axarr.grid(which='minor', alpha=0.2)\n",
    "axarr.grid(which='major', alpha=0.5) \n",
    "\n",
    "axarr.grid(True)\n",
    "axarr.tick_params(labelsize=24,)\n",
    "axarr.set_xlabel(r'CO core mass  $[\\rm{M}_{\\odot}]$', fontsize=24)\n",
    "axarr.set_ylabel(r'remnant mass $[\\rm{M}_{\\odot}]$', fontsize=24)     \n",
    "\n",
    "axarr.set_xlim(3,5)\n",
    "axarr.set_ylim(1.3,3)\n",
    "plt.tight_layout()\n",
    "plt.savefig('./remnantMassMnsmaxVariationsRAPID.png', dpi = 300)\n",
    "\n",
    "plt.show()"
   ]
  },
  {
   "cell_type": "code",
   "execution_count": 58,
   "metadata": {},
   "outputs": [
    {
     "name": "stdout",
     "output_type": "stream",
     "text": [
      "<KeysViewHDF5 ['RLOF', 'XRayBinaries', 'commonEnvelopes', 'cppSource', 'doubleCompactObjects', 'formationChannels', 'pulsarEvolution', 'runtimes', 'supernovae', 'systems']>\n",
      "5000 total systems simulated\n"
     ]
    }
   ],
   "source": [
    "# #general path to file (which I pass to the formationChannel file later)\n",
    "# path = '/Users/floorbroekgaarden/Documents/PopulationSynthesisThings/FryerCheck/'\n",
    "\n",
    "# #specific path to use now\n",
    "# path1 = path+'COMPASOutput.h5'\n",
    "# fdata = h5.File(path1)\n",
    "# print(fdata.keys())\n",
    "\n",
    "# fDCO  = fdata['doubleCompactObjects']\n",
    "# fForm = fdata['formationChannels']\n",
    "# fSN   = fdata['supernovae']\n",
    "# fCE  = fdata['commonEnvelopes']\n",
    "\n",
    "# totalSystems= len((fdata['systems']['mass1'][...].squeeze()))\n",
    "# print(totalSystems, 'total systems simulated')\n",
    "# #Only want BBHs\n",
    "\n",
    "\n",
    "# MassCOCoreSN = fSN['MassCOCoreSN']\n",
    "# Mrem = fSN['Mrem']\n",
    "# MassStarSN= fSN['MassStarSN']\n",
    "# MSNZAMS = fSN['MSNZAMS']\n",
    "# fallback= fSN['fallback']\n",
    "# MassCoreSN = fSN['MassCoreSN']\n"
   ]
  },
  {
   "cell_type": "code",
   "execution_count": null,
   "metadata": {},
   "outputs": [],
   "source": []
  },
  {
   "cell_type": "code",
   "execution_count": null,
   "metadata": {},
   "outputs": [],
   "source": []
  },
  {
   "cell_type": "code",
   "execution_count": 45,
   "metadata": {},
   "outputs": [
    {
     "data": {
      "text/plain": [
       "2.67021"
      ]
     },
     "execution_count": 45,
     "metadata": {},
     "output_type": "execute_result"
    }
   ],
   "source": [
    "2.9669*0.9"
   ]
  },
  {
   "cell_type": "code",
   "execution_count": 145,
   "metadata": {},
   "outputs": [
    {
     "data": {
      "image/png": "[encoded data removed]",
      "text/plain": [
       "<Figure size 720x432 with 1 Axes>"
      ]
     },
     "metadata": {
      "needs_background": "light"
     },
     "output_type": "display_data"
    }
   ],
   "source": [
    "\n",
    "    \n",
    "\n",
    "\n",
    "f, axarr = plt.subplots(1, 1, figsize=(10, 6))\n",
    "# plot given parameters for star 1 and star 2\n",
    "axarr.scatter(MSNZAMS, MassCOCoreSN, s = 4, c=colorlist[0], label = 'COcoreMass')\n",
    "# axarr.scatter(MSNZAMS, MassStarSN, s = 4, c=colorlist[1], label = 'MstarSN')\n",
    "axarr.scatter(MSNZAMS, Mrem, s = 4, c=colorlist[2], label = 'Mrem')\n",
    "\n",
    "\n",
    "# # plot stellartype + a scatter point when steller type changes\n",
    "# axarr.scatter(time[maskST1changes], param_m1[maskST1changes], s=120, c=colorlist[6],\\\n",
    "#               marker='o', edgecolors =None, zorder=1000)\n",
    "# axarr.scatter(time[maskST2changes], param_m2[maskST2changes], s=120, c=colorlist[6],\\\n",
    "#               marker='o', edgecolors =None, zorder = 1000)\n",
    "\n",
    "\n",
    "\n",
    "\n",
    "# make plot look nicer with code below\n",
    "axarr.legend(markerscale=4, scatterpoints=1,fontsize = 24 , loc = 'upper left')\n",
    "\n",
    "axarr.grid(which='both')\n",
    "axarr.grid(which='minor', alpha=0.2)\n",
    "axarr.grid(which='major', alpha=0.5) \n",
    "\n",
    "axarr.grid(True)\n",
    "axarr.tick_params(labelsize=24,)\n",
    "axarr.set_xlabel(r'mass ZAMS  $[\\rm{M}_{\\odot}]$', fontsize=24)\n",
    "axarr.set_ylabel(r'Mass $[\\rm{M}_{\\odot}]$', fontsize=24)     \n",
    "plt.savefig(path +'COMPASPopulation.png', dpi = 300)\n",
    "\n",
    "plt.tight_layout()\n",
    "plt.show()\n",
    "    \n",
    "\n",
    "\n",
    "\n"
   ]
  },
  {
   "cell_type": "code",
   "execution_count": 73,
   "metadata": {},
   "outputs": [],
   "source": [
    "\n",
    "# COCoreMassList = np.linspace(6, 15, 100)\n",
    "# Mass = COCoreMass*1.5\n",
    "\n",
    "COcoreslistCOMPAS = []\n",
    "for ind, COCoreMass in enumerate(MassCOCoreSN):\n",
    "    Mass = MassStarSN[ind]\n",
    "\n",
    "\n",
    "    Mproto = FryerCOCoreToProtoMassDelayed(COCoreMass)\n",
    "    fb = FryerFallbackDelayed(Mass, Mproto, COCoreMass)\n",
    "    Mfb = FryerMassFallbackGeneral(Mass, Mproto, fb);\n",
    "    Mrem_bary = FryerBaryonicRemnantMassGeneral(Mproto, Mfb);\n",
    "    Mrem_grav = FryerGravitationalRemnantMassGeneral(Mrem_bary);\n",
    "    \n",
    "    COcoreslistCOMPAS.append(Mrem_grav)"
   ]
  },
  {
   "cell_type": "code",
   "execution_count": 83,
   "metadata": {},
   "outputs": [
    {
     "data": {
      "image/png": "[encoded data removed]",
      "text/plain": [
       "<Figure size 432x288 with 1 Axes>"
      ]
     },
     "metadata": {
      "needs_background": "light"
     },
     "output_type": "display_data"
    }
   ],
   "source": [
    "plt.scatter(MassCOCoreSN,COcoreslistCOMPAS,  s = 2)\n",
    "# plt.ylim(0,5)\n",
    "plt.show()"
   ]
  },
  {
   "cell_type": "code",
   "execution_count": 92,
   "metadata": {},
   "outputs": [],
   "source": [
    "# print(list(MSNZAMS[...].squeeze()/MassCOCoreSN[...].squeeze()))"
   ]
  },
  {
   "cell_type": "code",
   "execution_count": null,
   "metadata": {},
   "outputs": [],
   "source": []
  },
  {
   "cell_type": "code",
   "execution_count": null,
   "metadata": {},
   "outputs": [],
   "source": [
    "# Check with population"
   ]
  },
  {
   "cell_type": "code",
   "execution_count": null,
   "metadata": {},
   "outputs": [],
   "source": [
    "from __future__ import division \n",
    "import numpy as np\n",
    "import matplotlib.pyplot as plt\n",
    "import h5py as h5\n",
    "\n",
    "\n",
    "from scipy.stats import multivariate_normal\n",
    "%matplotlib inline\n",
    "#matplotlib qt \n",
    "from IPython.core.display import display, HTML\n",
    "display(HTML(\"<style>.container { width:100% !important; }</style>\"))\n",
    "\n",
    "\n",
    "import numpy as np\n",
    "import matplotlib.pyplot as plt\n",
    "import h5py as h5\n",
    "\n",
    "\n",
    "#how this is imported here it means the FormationChannel.py must be in same directory\n",
    "# import FormationChannel as FC\n",
    "\n",
    "# from __future__ import division \n",
    "# import seaborn as sns; sns.set() #color_codes=True)\n",
    "#Import functions\n",
    "import math\n",
    "import numpy as np\n",
    "import scipy\n",
    "import matplotlib.pyplot as plt\n",
    "import sys\n",
    "import matplotlib\n",
    "from scipy.stats import multivariate_normal\n",
    "from scipy import integrate\n",
    "from mpl_toolkits.mplot3d import Axes3D \n",
    "\n",
    "\n",
    "import math\n",
    "import random\n",
    "from scipy.integrate import quad\n",
    "# %matplotlib notebook\n",
    "%matplotlib inline\n",
    "from IPython.core.display import display, HTML\n",
    "display(HTML(\"<style>.container { width:100% !important; }</style>\"))\n",
    "\n",
    "import matplotlib.pyplot as plt\n",
    "import numpy as np\n",
    "from matplotlib.patches import Ellipse\n",
    "\n",
    "import matplotlib.pyplot as plt\n",
    "\n",
    "\n",
    "from matplotlib import rc                                                                                                                                                                                                                    \n",
    "from matplotlib import rcParams\n",
    "rc('font', family='serif')\n",
    "rc('axes', linewidth=2)\n",
    "\n",
    "matplotlib.rcParams['xtick.major.size'] = 12\n",
    "matplotlib.rcParams['ytick.major.size'] = 12\n",
    "matplotlib.rcParams['xtick.minor.size'] = 8\n",
    "matplotlib.rcParams['ytick.minor.size'] = 8\n",
    "fs = 30\n",
    "fs_text = fs\n",
    "\n",
    "# colors =  ['#377eb8', '#ff7f00', '#4daf4a', '#f781bf', '#a65628', '#984ea3','#999999', '#e41a1c', '#dede00']\n",
    "colors =  ['#189ef8' , '#ff7f00', '#4daf4a', '#f781bf', '#a65628', '#984ea3','#999999', '#e41a1c', '#dede00'] #'#377eb8'"
   ]
  },
  {
   "cell_type": "code",
   "execution_count": null,
   "metadata": {},
   "outputs": [],
   "source": []
  }
 ],
 "metadata": {
  "kernelspec": {
   "display_name": "Python 3",
   "language": "python",
   "name": "python3"
  },
  "language_info": {
   "codemirror_mode": {
    "name": "ipython",
    "version": 3
   },
   "file_extension": ".py",
   "mimetype": "text/x-python",
   "name": "python",
   "nbconvert_exporter": "python",
   "pygments_lexer": "ipython3",
   "version": "3.7.4"
  }
 },
 "nbformat": 4,
 "nbformat_minor": 2
}
